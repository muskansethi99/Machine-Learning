{
 "cells": [
  {
   "cell_type": "code",
   "execution_count": 1,
   "metadata": {
    "colab": {
     "base_uri": "https://localhost:8080/",
     "height": 270
    },
    "id": "rU2Ok6YBffOU",
    "outputId": "61fd9984-a2fc-4dd1-9391-41f8ab6df2d7"
   },
   "outputs": [
    {
     "data": {
      "text/html": [
       "<div>\n",
       "<style scoped>\n",
       "    .dataframe tbody tr th:only-of-type {\n",
       "        vertical-align: middle;\n",
       "    }\n",
       "\n",
       "    .dataframe tbody tr th {\n",
       "        vertical-align: top;\n",
       "    }\n",
       "\n",
       "    .dataframe thead th {\n",
       "        text-align: right;\n",
       "    }\n",
       "</style>\n",
       "<table border=\"1\" class=\"dataframe\">\n",
       "  <thead>\n",
       "    <tr style=\"text-align: right;\">\n",
       "      <th></th>\n",
       "      <th>Unnamed: 0</th>\n",
       "      <th>ID</th>\n",
       "      <th>0</th>\n",
       "      <th>1</th>\n",
       "      <th>2</th>\n",
       "      <th>3</th>\n",
       "      <th>4</th>\n",
       "      <th>5</th>\n",
       "      <th>6</th>\n",
       "      <th>7</th>\n",
       "      <th>...</th>\n",
       "      <th>f9</th>\n",
       "      <th>fa</th>\n",
       "      <th>fb</th>\n",
       "      <th>fc</th>\n",
       "      <th>fd</th>\n",
       "      <th>fe</th>\n",
       "      <th>ff</th>\n",
       "      <th>??</th>\n",
       "      <th>size</th>\n",
       "      <th>Class</th>\n",
       "    </tr>\n",
       "  </thead>\n",
       "  <tbody>\n",
       "    <tr>\n",
       "      <th>0</th>\n",
       "      <td>0</td>\n",
       "      <td>01azqd4InC7m9JpocGv5</td>\n",
       "      <td>601905</td>\n",
       "      <td>3905</td>\n",
       "      <td>2816</td>\n",
       "      <td>3832</td>\n",
       "      <td>3345</td>\n",
       "      <td>3242</td>\n",
       "      <td>3650</td>\n",
       "      <td>3201</td>\n",
       "      <td>...</td>\n",
       "      <td>3101</td>\n",
       "      <td>3211</td>\n",
       "      <td>3097</td>\n",
       "      <td>2758</td>\n",
       "      <td>3099</td>\n",
       "      <td>2759</td>\n",
       "      <td>5753</td>\n",
       "      <td>1824</td>\n",
       "      <td>4.234863</td>\n",
       "      <td>9</td>\n",
       "    </tr>\n",
       "    <tr>\n",
       "      <th>1</th>\n",
       "      <td>1</td>\n",
       "      <td>01IsoiSMh5gxyDYTl4CB</td>\n",
       "      <td>39755</td>\n",
       "      <td>8337</td>\n",
       "      <td>7249</td>\n",
       "      <td>7186</td>\n",
       "      <td>8663</td>\n",
       "      <td>6844</td>\n",
       "      <td>8420</td>\n",
       "      <td>7589</td>\n",
       "      <td>...</td>\n",
       "      <td>439</td>\n",
       "      <td>281</td>\n",
       "      <td>302</td>\n",
       "      <td>7639</td>\n",
       "      <td>518</td>\n",
       "      <td>17001</td>\n",
       "      <td>54902</td>\n",
       "      <td>8588</td>\n",
       "      <td>5.538818</td>\n",
       "      <td>2</td>\n",
       "    </tr>\n",
       "    <tr>\n",
       "      <th>2</th>\n",
       "      <td>2</td>\n",
       "      <td>01jsnpXSAlgw6aPeDxrU</td>\n",
       "      <td>93506</td>\n",
       "      <td>9542</td>\n",
       "      <td>2568</td>\n",
       "      <td>2438</td>\n",
       "      <td>8925</td>\n",
       "      <td>9330</td>\n",
       "      <td>9007</td>\n",
       "      <td>2342</td>\n",
       "      <td>...</td>\n",
       "      <td>2242</td>\n",
       "      <td>2885</td>\n",
       "      <td>2863</td>\n",
       "      <td>2471</td>\n",
       "      <td>2786</td>\n",
       "      <td>2680</td>\n",
       "      <td>49144</td>\n",
       "      <td>468</td>\n",
       "      <td>3.887939</td>\n",
       "      <td>9</td>\n",
       "    </tr>\n",
       "    <tr>\n",
       "      <th>3</th>\n",
       "      <td>3</td>\n",
       "      <td>01kcPWA9K2BOxQeS5Rju</td>\n",
       "      <td>21091</td>\n",
       "      <td>1213</td>\n",
       "      <td>726</td>\n",
       "      <td>817</td>\n",
       "      <td>1257</td>\n",
       "      <td>625</td>\n",
       "      <td>550</td>\n",
       "      <td>523</td>\n",
       "      <td>...</td>\n",
       "      <td>485</td>\n",
       "      <td>462</td>\n",
       "      <td>516</td>\n",
       "      <td>1133</td>\n",
       "      <td>471</td>\n",
       "      <td>761</td>\n",
       "      <td>7998</td>\n",
       "      <td>13940</td>\n",
       "      <td>0.574219</td>\n",
       "      <td>1</td>\n",
       "    </tr>\n",
       "    <tr>\n",
       "      <th>4</th>\n",
       "      <td>4</td>\n",
       "      <td>01SuzwMJEIXsK7A8dQbl</td>\n",
       "      <td>19764</td>\n",
       "      <td>710</td>\n",
       "      <td>302</td>\n",
       "      <td>433</td>\n",
       "      <td>559</td>\n",
       "      <td>410</td>\n",
       "      <td>262</td>\n",
       "      <td>249</td>\n",
       "      <td>...</td>\n",
       "      <td>350</td>\n",
       "      <td>209</td>\n",
       "      <td>239</td>\n",
       "      <td>653</td>\n",
       "      <td>221</td>\n",
       "      <td>242</td>\n",
       "      <td>2199</td>\n",
       "      <td>9008</td>\n",
       "      <td>0.370850</td>\n",
       "      <td>8</td>\n",
       "    </tr>\n",
       "  </tbody>\n",
       "</table>\n",
       "<p>5 rows × 261 columns</p>\n",
       "</div>"
      ],
      "text/plain": [
       "   Unnamed: 0                    ID       0     1     2     3     4     5  \\\n",
       "0           0  01azqd4InC7m9JpocGv5  601905  3905  2816  3832  3345  3242   \n",
       "1           1  01IsoiSMh5gxyDYTl4CB   39755  8337  7249  7186  8663  6844   \n",
       "2           2  01jsnpXSAlgw6aPeDxrU   93506  9542  2568  2438  8925  9330   \n",
       "3           3  01kcPWA9K2BOxQeS5Rju   21091  1213   726   817  1257   625   \n",
       "4           4  01SuzwMJEIXsK7A8dQbl   19764   710   302   433   559   410   \n",
       "\n",
       "      6     7  ...      f9    fa    fb    fc    fd     fe     ff     ??  \\\n",
       "0  3650  3201  ...    3101  3211  3097  2758  3099   2759   5753   1824   \n",
       "1  8420  7589  ...     439   281   302  7639   518  17001  54902   8588   \n",
       "2  9007  2342  ...    2242  2885  2863  2471  2786   2680  49144    468   \n",
       "3   550   523  ...     485   462   516  1133   471    761   7998  13940   \n",
       "4   262   249  ...     350   209   239   653   221    242   2199   9008   \n",
       "\n",
       "       size  Class  \n",
       "0  4.234863      9  \n",
       "1  5.538818      2  \n",
       "2  3.887939      9  \n",
       "3  0.574219      1  \n",
       "4  0.370850      8  \n",
       "\n",
       "[5 rows x 261 columns]"
      ]
     },
     "execution_count": 1,
     "metadata": {},
     "output_type": "execute_result"
    }
   ],
   "source": [
    "from sklearn.linear_model import LogisticRegressionCV\n",
    "from sklearn.model_selection import GridSearchCV\n",
    "from sklearn.model_selection import cross_val_score\n",
    "from sklearn.model_selection import cross_val_predict\n",
    "from sklearn.model_selection import train_test_split\n",
    "from sklearn.preprocessing import StandardScaler\n",
    "from sklearn.metrics import confusion_matrix\n",
    "from sklearn.metrics import accuracy_score\n",
    "import pandas as pd \n",
    "import io \n",
    "data = pd.read_csv(r\"C:\\Users\\muska_000\\Desktop\\assign4.csv\")\n",
    "data.head()"
   ]
  },
  {
   "cell_type": "code",
   "execution_count": 2,
   "metadata": {
    "colab": {
     "base_uri": "https://localhost:8080/"
    },
    "id": "yFp59knhiLfu",
    "outputId": "963954fa-e9da-42f1-8e31-d78c9a22a3f8"
   },
   "outputs": [
    {
     "name": "stdout",
     "output_type": "stream",
     "text": [
      "<class 'pandas.core.frame.DataFrame'>\n",
      "RangeIndex: 10868 entries, 0 to 10867\n",
      "Columns: 261 entries, Unnamed: 0 to Class\n",
      "dtypes: float64(1), int64(259), object(1)\n",
      "memory usage: 21.6+ MB\n"
     ]
    }
   ],
   "source": [
    "data.info()"
   ]
  },
  {
   "cell_type": "code",
   "execution_count": 3,
   "metadata": {
    "colab": {
     "base_uri": "https://localhost:8080/",
     "height": 346
    },
    "id": "zOULLrfwkxxD",
    "outputId": "987f762a-191c-4296-d038-b92a653a5d30"
   },
   "outputs": [
    {
     "data": {
      "text/html": [
       "<div>\n",
       "<style scoped>\n",
       "    .dataframe tbody tr th:only-of-type {\n",
       "        vertical-align: middle;\n",
       "    }\n",
       "\n",
       "    .dataframe tbody tr th {\n",
       "        vertical-align: top;\n",
       "    }\n",
       "\n",
       "    .dataframe thead th {\n",
       "        text-align: right;\n",
       "    }\n",
       "</style>\n",
       "<table border=\"1\" class=\"dataframe\">\n",
       "  <thead>\n",
       "    <tr style=\"text-align: right;\">\n",
       "      <th></th>\n",
       "      <th>Unnamed: 0</th>\n",
       "      <th>0</th>\n",
       "      <th>1</th>\n",
       "      <th>2</th>\n",
       "      <th>3</th>\n",
       "      <th>4</th>\n",
       "      <th>5</th>\n",
       "      <th>6</th>\n",
       "      <th>7</th>\n",
       "      <th>8</th>\n",
       "      <th>...</th>\n",
       "      <th>f9</th>\n",
       "      <th>fa</th>\n",
       "      <th>fb</th>\n",
       "      <th>fc</th>\n",
       "      <th>fd</th>\n",
       "      <th>fe</th>\n",
       "      <th>ff</th>\n",
       "      <th>??</th>\n",
       "      <th>size</th>\n",
       "      <th>Class</th>\n",
       "    </tr>\n",
       "  </thead>\n",
       "  <tbody>\n",
       "    <tr>\n",
       "      <th>count</th>\n",
       "      <td>10868.000000</td>\n",
       "      <td>1.086800e+04</td>\n",
       "      <td>10868.000000</td>\n",
       "      <td>1.086800e+04</td>\n",
       "      <td>1.086800e+04</td>\n",
       "      <td>1.086800e+04</td>\n",
       "      <td>1.086800e+04</td>\n",
       "      <td>1.086800e+04</td>\n",
       "      <td>1.086800e+04</td>\n",
       "      <td>1.086800e+04</td>\n",
       "      <td>...</td>\n",
       "      <td>10868.000000</td>\n",
       "      <td>10868.000000</td>\n",
       "      <td>10868.000000</td>\n",
       "      <td>10868.000000</td>\n",
       "      <td>10868.000000</td>\n",
       "      <td>10868.000000</td>\n",
       "      <td>10868.000000</td>\n",
       "      <td>1.086800e+04</td>\n",
       "      <td>10868.000000</td>\n",
       "      <td>10868.000000</td>\n",
       "    </tr>\n",
       "    <tr>\n",
       "      <th>mean</th>\n",
       "      <td>5433.500000</td>\n",
       "      <td>5.412632e+04</td>\n",
       "      <td>8076.913876</td>\n",
       "      <td>1.002482e+04</td>\n",
       "      <td>7.096159e+03</td>\n",
       "      <td>8.952651e+03</td>\n",
       "      <td>4.358067e+03</td>\n",
       "      <td>7.718305e+03</td>\n",
       "      <td>3.839658e+03</td>\n",
       "      <td>5.029475e+03</td>\n",
       "      <td>...</td>\n",
       "      <td>2003.397129</td>\n",
       "      <td>2240.809993</td>\n",
       "      <td>1792.368513</td>\n",
       "      <td>3269.539750</td>\n",
       "      <td>2374.210986</td>\n",
       "      <td>3066.739510</td>\n",
       "      <td>15793.226077</td>\n",
       "      <td>4.986941e+05</td>\n",
       "      <td>3.769535</td>\n",
       "      <td>4.017851</td>\n",
       "    </tr>\n",
       "    <tr>\n",
       "      <th>std</th>\n",
       "      <td>3137.465697</td>\n",
       "      <td>1.011696e+05</td>\n",
       "      <td>19019.471235</td>\n",
       "      <td>5.078501e+04</td>\n",
       "      <td>2.836619e+04</td>\n",
       "      <td>5.546638e+04</td>\n",
       "      <td>2.542380e+04</td>\n",
       "      <td>5.322195e+04</td>\n",
       "      <td>1.655496e+04</td>\n",
       "      <td>1.970269e+04</td>\n",
       "      <td>...</td>\n",
       "      <td>7593.041452</td>\n",
       "      <td>9265.912957</td>\n",
       "      <td>5599.736544</td>\n",
       "      <td>3664.695393</td>\n",
       "      <td>7853.044764</td>\n",
       "      <td>5036.446951</td>\n",
       "      <td>22896.046205</td>\n",
       "      <td>7.203975e+05</td>\n",
       "      <td>3.012936</td>\n",
       "      <td>2.684621</td>\n",
       "    </tr>\n",
       "    <tr>\n",
       "      <th>min</th>\n",
       "      <td>0.000000</td>\n",
       "      <td>0.000000e+00</td>\n",
       "      <td>0.000000</td>\n",
       "      <td>0.000000e+00</td>\n",
       "      <td>0.000000e+00</td>\n",
       "      <td>0.000000e+00</td>\n",
       "      <td>0.000000e+00</td>\n",
       "      <td>0.000000e+00</td>\n",
       "      <td>0.000000e+00</td>\n",
       "      <td>0.000000e+00</td>\n",
       "      <td>...</td>\n",
       "      <td>0.000000</td>\n",
       "      <td>0.000000</td>\n",
       "      <td>0.000000</td>\n",
       "      <td>0.000000</td>\n",
       "      <td>0.000000</td>\n",
       "      <td>0.000000</td>\n",
       "      <td>0.000000</td>\n",
       "      <td>0.000000e+00</td>\n",
       "      <td>0.090744</td>\n",
       "      <td>1.000000</td>\n",
       "    </tr>\n",
       "    <tr>\n",
       "      <th>25%</th>\n",
       "      <td>2716.750000</td>\n",
       "      <td>1.125700e+04</td>\n",
       "      <td>1140.000000</td>\n",
       "      <td>6.570000e+02</td>\n",
       "      <td>6.910000e+02</td>\n",
       "      <td>8.967500e+02</td>\n",
       "      <td>5.560000e+02</td>\n",
       "      <td>4.390000e+02</td>\n",
       "      <td>4.840000e+02</td>\n",
       "      <td>8.165000e+02</td>\n",
       "      <td>...</td>\n",
       "      <td>331.000000</td>\n",
       "      <td>297.000000</td>\n",
       "      <td>316.000000</td>\n",
       "      <td>670.000000</td>\n",
       "      <td>343.000000</td>\n",
       "      <td>467.750000</td>\n",
       "      <td>3139.750000</td>\n",
       "      <td>8.901000e+03</td>\n",
       "      <td>0.705811</td>\n",
       "      <td>2.000000</td>\n",
       "    </tr>\n",
       "    <tr>\n",
       "      <th>50%</th>\n",
       "      <td>5433.500000</td>\n",
       "      <td>2.182000e+04</td>\n",
       "      <td>4211.000000</td>\n",
       "      <td>3.053500e+03</td>\n",
       "      <td>3.075000e+03</td>\n",
       "      <td>3.139000e+03</td>\n",
       "      <td>2.539000e+03</td>\n",
       "      <td>2.729000e+03</td>\n",
       "      <td>2.399500e+03</td>\n",
       "      <td>3.169500e+03</td>\n",
       "      <td>...</td>\n",
       "      <td>803.000000</td>\n",
       "      <td>701.000000</td>\n",
       "      <td>760.000000</td>\n",
       "      <td>2577.000000</td>\n",
       "      <td>836.000000</td>\n",
       "      <td>2402.000000</td>\n",
       "      <td>6844.500000</td>\n",
       "      <td>1.729600e+04</td>\n",
       "      <td>3.521769</td>\n",
       "      <td>3.000000</td>\n",
       "    </tr>\n",
       "    <tr>\n",
       "      <th>75%</th>\n",
       "      <td>8150.250000</td>\n",
       "      <td>6.079300e+04</td>\n",
       "      <td>7313.250000</td>\n",
       "      <td>3.901500e+03</td>\n",
       "      <td>3.662000e+03</td>\n",
       "      <td>4.291750e+03</td>\n",
       "      <td>3.335000e+03</td>\n",
       "      <td>3.309000e+03</td>\n",
       "      <td>3.295000e+03</td>\n",
       "      <td>4.697750e+03</td>\n",
       "      <td>...</td>\n",
       "      <td>3100.000000</td>\n",
       "      <td>3102.000000</td>\n",
       "      <td>3103.000000</td>\n",
       "      <td>3273.000000</td>\n",
       "      <td>3142.000000</td>\n",
       "      <td>3243.000000</td>\n",
       "      <td>16550.500000</td>\n",
       "      <td>1.490076e+06</td>\n",
       "      <td>6.842773</td>\n",
       "      <td>6.000000</td>\n",
       "    </tr>\n",
       "    <tr>\n",
       "      <th>max</th>\n",
       "      <td>10867.000000</td>\n",
       "      <td>2.290304e+06</td>\n",
       "      <td>710311.000000</td>\n",
       "      <td>1.797398e+06</td>\n",
       "      <td>1.853743e+06</td>\n",
       "      <td>1.633527e+06</td>\n",
       "      <td>1.766915e+06</td>\n",
       "      <td>1.773856e+06</td>\n",
       "      <td>1.086639e+06</td>\n",
       "      <td>1.123828e+06</td>\n",
       "      <td>...</td>\n",
       "      <td>228692.000000</td>\n",
       "      <td>244977.000000</td>\n",
       "      <td>227158.000000</td>\n",
       "      <td>86938.000000</td>\n",
       "      <td>213004.000000</td>\n",
       "      <td>192296.000000</td>\n",
       "      <td>733486.000000</td>\n",
       "      <td>1.416540e+07</td>\n",
       "      <td>45.028320</td>\n",
       "      <td>9.000000</td>\n",
       "    </tr>\n",
       "  </tbody>\n",
       "</table>\n",
       "<p>8 rows × 260 columns</p>\n",
       "</div>"
      ],
      "text/plain": [
       "         Unnamed: 0             0              1             2             3  \\\n",
       "count  10868.000000  1.086800e+04   10868.000000  1.086800e+04  1.086800e+04   \n",
       "mean    5433.500000  5.412632e+04    8076.913876  1.002482e+04  7.096159e+03   \n",
       "std     3137.465697  1.011696e+05   19019.471235  5.078501e+04  2.836619e+04   \n",
       "min        0.000000  0.000000e+00       0.000000  0.000000e+00  0.000000e+00   \n",
       "25%     2716.750000  1.125700e+04    1140.000000  6.570000e+02  6.910000e+02   \n",
       "50%     5433.500000  2.182000e+04    4211.000000  3.053500e+03  3.075000e+03   \n",
       "75%     8150.250000  6.079300e+04    7313.250000  3.901500e+03  3.662000e+03   \n",
       "max    10867.000000  2.290304e+06  710311.000000  1.797398e+06  1.853743e+06   \n",
       "\n",
       "                  4             5             6             7             8  \\\n",
       "count  1.086800e+04  1.086800e+04  1.086800e+04  1.086800e+04  1.086800e+04   \n",
       "mean   8.952651e+03  4.358067e+03  7.718305e+03  3.839658e+03  5.029475e+03   \n",
       "std    5.546638e+04  2.542380e+04  5.322195e+04  1.655496e+04  1.970269e+04   \n",
       "min    0.000000e+00  0.000000e+00  0.000000e+00  0.000000e+00  0.000000e+00   \n",
       "25%    8.967500e+02  5.560000e+02  4.390000e+02  4.840000e+02  8.165000e+02   \n",
       "50%    3.139000e+03  2.539000e+03  2.729000e+03  2.399500e+03  3.169500e+03   \n",
       "75%    4.291750e+03  3.335000e+03  3.309000e+03  3.295000e+03  4.697750e+03   \n",
       "max    1.633527e+06  1.766915e+06  1.773856e+06  1.086639e+06  1.123828e+06   \n",
       "\n",
       "           ...                  f9             fa             fb  \\\n",
       "count      ...        10868.000000   10868.000000   10868.000000   \n",
       "mean       ...         2003.397129    2240.809993    1792.368513   \n",
       "std        ...         7593.041452    9265.912957    5599.736544   \n",
       "min        ...            0.000000       0.000000       0.000000   \n",
       "25%        ...          331.000000     297.000000     316.000000   \n",
       "50%        ...          803.000000     701.000000     760.000000   \n",
       "75%        ...         3100.000000    3102.000000    3103.000000   \n",
       "max        ...       228692.000000  244977.000000  227158.000000   \n",
       "\n",
       "                 fc             fd             fe             ff  \\\n",
       "count  10868.000000   10868.000000   10868.000000   10868.000000   \n",
       "mean    3269.539750    2374.210986    3066.739510   15793.226077   \n",
       "std     3664.695393    7853.044764    5036.446951   22896.046205   \n",
       "min        0.000000       0.000000       0.000000       0.000000   \n",
       "25%      670.000000     343.000000     467.750000    3139.750000   \n",
       "50%     2577.000000     836.000000    2402.000000    6844.500000   \n",
       "75%     3273.000000    3142.000000    3243.000000   16550.500000   \n",
       "max    86938.000000  213004.000000  192296.000000  733486.000000   \n",
       "\n",
       "                 ??          size         Class  \n",
       "count  1.086800e+04  10868.000000  10868.000000  \n",
       "mean   4.986941e+05      3.769535      4.017851  \n",
       "std    7.203975e+05      3.012936      2.684621  \n",
       "min    0.000000e+00      0.090744      1.000000  \n",
       "25%    8.901000e+03      0.705811      2.000000  \n",
       "50%    1.729600e+04      3.521769      3.000000  \n",
       "75%    1.490076e+06      6.842773      6.000000  \n",
       "max    1.416540e+07     45.028320      9.000000  \n",
       "\n",
       "[8 rows x 260 columns]"
      ]
     },
     "execution_count": 3,
     "metadata": {},
     "output_type": "execute_result"
    }
   ],
   "source": [
    "data.describe()"
   ]
  },
  {
   "cell_type": "code",
   "execution_count": 4,
   "metadata": {
    "colab": {
     "base_uri": "https://localhost:8080/",
     "height": 253
    },
    "id": "a-EnOkRQk0ne",
    "outputId": "d622be40-3571-42c5-b057-e5f99407494d"
   },
   "outputs": [
    {
     "data": {
      "text/html": [
       "<div>\n",
       "<style scoped>\n",
       "    .dataframe tbody tr th:only-of-type {\n",
       "        vertical-align: middle;\n",
       "    }\n",
       "\n",
       "    .dataframe tbody tr th {\n",
       "        vertical-align: top;\n",
       "    }\n",
       "\n",
       "    .dataframe thead th {\n",
       "        text-align: right;\n",
       "    }\n",
       "</style>\n",
       "<table border=\"1\" class=\"dataframe\">\n",
       "  <thead>\n",
       "    <tr style=\"text-align: right;\">\n",
       "      <th></th>\n",
       "      <th>0</th>\n",
       "      <th>1</th>\n",
       "      <th>2</th>\n",
       "      <th>3</th>\n",
       "      <th>4</th>\n",
       "      <th>5</th>\n",
       "      <th>6</th>\n",
       "      <th>7</th>\n",
       "      <th>8</th>\n",
       "      <th>9</th>\n",
       "      <th>...</th>\n",
       "      <th>f9</th>\n",
       "      <th>fa</th>\n",
       "      <th>fb</th>\n",
       "      <th>fc</th>\n",
       "      <th>fd</th>\n",
       "      <th>fe</th>\n",
       "      <th>ff</th>\n",
       "      <th>??</th>\n",
       "      <th>size</th>\n",
       "      <th>Class</th>\n",
       "    </tr>\n",
       "  </thead>\n",
       "  <tbody>\n",
       "    <tr>\n",
       "      <th>0</th>\n",
       "      <td>601905</td>\n",
       "      <td>3905</td>\n",
       "      <td>2816</td>\n",
       "      <td>3832</td>\n",
       "      <td>3345</td>\n",
       "      <td>3242</td>\n",
       "      <td>3650</td>\n",
       "      <td>3201</td>\n",
       "      <td>2965</td>\n",
       "      <td>3205</td>\n",
       "      <td>...</td>\n",
       "      <td>3101</td>\n",
       "      <td>3211</td>\n",
       "      <td>3097</td>\n",
       "      <td>2758</td>\n",
       "      <td>3099</td>\n",
       "      <td>2759</td>\n",
       "      <td>5753</td>\n",
       "      <td>1824</td>\n",
       "      <td>4.234863</td>\n",
       "      <td>9</td>\n",
       "    </tr>\n",
       "    <tr>\n",
       "      <th>1</th>\n",
       "      <td>39755</td>\n",
       "      <td>8337</td>\n",
       "      <td>7249</td>\n",
       "      <td>7186</td>\n",
       "      <td>8663</td>\n",
       "      <td>6844</td>\n",
       "      <td>8420</td>\n",
       "      <td>7589</td>\n",
       "      <td>9291</td>\n",
       "      <td>358</td>\n",
       "      <td>...</td>\n",
       "      <td>439</td>\n",
       "      <td>281</td>\n",
       "      <td>302</td>\n",
       "      <td>7639</td>\n",
       "      <td>518</td>\n",
       "      <td>17001</td>\n",
       "      <td>54902</td>\n",
       "      <td>8588</td>\n",
       "      <td>5.538818</td>\n",
       "      <td>2</td>\n",
       "    </tr>\n",
       "    <tr>\n",
       "      <th>2</th>\n",
       "      <td>93506</td>\n",
       "      <td>9542</td>\n",
       "      <td>2568</td>\n",
       "      <td>2438</td>\n",
       "      <td>8925</td>\n",
       "      <td>9330</td>\n",
       "      <td>9007</td>\n",
       "      <td>2342</td>\n",
       "      <td>9107</td>\n",
       "      <td>2457</td>\n",
       "      <td>...</td>\n",
       "      <td>2242</td>\n",
       "      <td>2885</td>\n",
       "      <td>2863</td>\n",
       "      <td>2471</td>\n",
       "      <td>2786</td>\n",
       "      <td>2680</td>\n",
       "      <td>49144</td>\n",
       "      <td>468</td>\n",
       "      <td>3.887939</td>\n",
       "      <td>9</td>\n",
       "    </tr>\n",
       "    <tr>\n",
       "      <th>3</th>\n",
       "      <td>21091</td>\n",
       "      <td>1213</td>\n",
       "      <td>726</td>\n",
       "      <td>817</td>\n",
       "      <td>1257</td>\n",
       "      <td>625</td>\n",
       "      <td>550</td>\n",
       "      <td>523</td>\n",
       "      <td>1078</td>\n",
       "      <td>473</td>\n",
       "      <td>...</td>\n",
       "      <td>485</td>\n",
       "      <td>462</td>\n",
       "      <td>516</td>\n",
       "      <td>1133</td>\n",
       "      <td>471</td>\n",
       "      <td>761</td>\n",
       "      <td>7998</td>\n",
       "      <td>13940</td>\n",
       "      <td>0.574219</td>\n",
       "      <td>1</td>\n",
       "    </tr>\n",
       "    <tr>\n",
       "      <th>4</th>\n",
       "      <td>19764</td>\n",
       "      <td>710</td>\n",
       "      <td>302</td>\n",
       "      <td>433</td>\n",
       "      <td>559</td>\n",
       "      <td>410</td>\n",
       "      <td>262</td>\n",
       "      <td>249</td>\n",
       "      <td>422</td>\n",
       "      <td>223</td>\n",
       "      <td>...</td>\n",
       "      <td>350</td>\n",
       "      <td>209</td>\n",
       "      <td>239</td>\n",
       "      <td>653</td>\n",
       "      <td>221</td>\n",
       "      <td>242</td>\n",
       "      <td>2199</td>\n",
       "      <td>9008</td>\n",
       "      <td>0.370850</td>\n",
       "      <td>8</td>\n",
       "    </tr>\n",
       "  </tbody>\n",
       "</table>\n",
       "<p>5 rows × 259 columns</p>\n",
       "</div>"
      ],
      "text/plain": [
       "        0     1     2     3     4     5     6     7     8     9  ...      f9  \\\n",
       "0  601905  3905  2816  3832  3345  3242  3650  3201  2965  3205  ...    3101   \n",
       "1   39755  8337  7249  7186  8663  6844  8420  7589  9291   358  ...     439   \n",
       "2   93506  9542  2568  2438  8925  9330  9007  2342  9107  2457  ...    2242   \n",
       "3   21091  1213   726   817  1257   625   550   523  1078   473  ...     485   \n",
       "4   19764   710   302   433   559   410   262   249   422   223  ...     350   \n",
       "\n",
       "     fa    fb    fc    fd     fe     ff     ??      size  Class  \n",
       "0  3211  3097  2758  3099   2759   5753   1824  4.234863      9  \n",
       "1   281   302  7639   518  17001  54902   8588  5.538818      2  \n",
       "2  2885  2863  2471  2786   2680  49144    468  3.887939      9  \n",
       "3   462   516  1133   471    761   7998  13940  0.574219      1  \n",
       "4   209   239   653   221    242   2199   9008  0.370850      8  \n",
       "\n",
       "[5 rows x 259 columns]"
      ]
     },
     "execution_count": 4,
     "metadata": {},
     "output_type": "execute_result"
    }
   ],
   "source": [
    "data = data.drop([\"ID\"], axis=1) \n",
    "data = data.drop([\"Unnamed: 0\"], axis=1) \n",
    "data.head()"
   ]
  },
  {
   "cell_type": "code",
   "execution_count": 5,
   "metadata": {
    "colab": {
     "base_uri": "https://localhost:8080/",
     "height": 98
    },
    "id": "idvz4lxplCPa",
    "outputId": "7948d3cc-d767-41ce-e7fa-252ec61e722e"
   },
   "outputs": [
    {
     "data": {
      "text/html": [
       "<div>\n",
       "<style scoped>\n",
       "    .dataframe tbody tr th:only-of-type {\n",
       "        vertical-align: middle;\n",
       "    }\n",
       "\n",
       "    .dataframe tbody tr th {\n",
       "        vertical-align: top;\n",
       "    }\n",
       "\n",
       "    .dataframe thead th {\n",
       "        text-align: right;\n",
       "    }\n",
       "</style>\n",
       "<table border=\"1\" class=\"dataframe\">\n",
       "  <thead>\n",
       "    <tr style=\"text-align: right;\">\n",
       "      <th></th>\n",
       "      <th>0</th>\n",
       "      <th>1</th>\n",
       "      <th>2</th>\n",
       "      <th>3</th>\n",
       "      <th>4</th>\n",
       "      <th>5</th>\n",
       "      <th>6</th>\n",
       "      <th>7</th>\n",
       "      <th>8</th>\n",
       "      <th>9</th>\n",
       "      <th>...</th>\n",
       "      <th>f9</th>\n",
       "      <th>fa</th>\n",
       "      <th>fb</th>\n",
       "      <th>fc</th>\n",
       "      <th>fd</th>\n",
       "      <th>fe</th>\n",
       "      <th>ff</th>\n",
       "      <th>??</th>\n",
       "      <th>size</th>\n",
       "      <th>Class</th>\n",
       "    </tr>\n",
       "  </thead>\n",
       "  <tbody>\n",
       "  </tbody>\n",
       "</table>\n",
       "<p>0 rows × 259 columns</p>\n",
       "</div>"
      ],
      "text/plain": [
       "Empty DataFrame\n",
       "Columns: [0, 1, 2, 3, 4, 5, 6, 7, 8, 9, 0a, 0b, 0c, 0d, 0e, 0f, 10, 11, 12, 13, 14, 15, 16, 17, 18, 19, 1a, 1b, 1c, 1d, 1e, 1f, 20, 21, 22, 23, 24, 25, 26, 27, 28, 29, 2a, 2b, 2c, 2d, 2e, 2f, 30, 31, 32, 33, 34, 35, 36, 37, 38, 39, 3a, 3b, 3c, 3d, 3e, 3f, 40, 41, 42, 43, 44, 45, 46, 47, 48, 49, 4a, 4b, 4c, 4d, 4e, 4f, 50, 51, 52, 53, 54, 55, 56, 57, 58, 59, 5a, 5b, 5c, 5d, 5e, 5f, 60, 61, 62, 63, ...]\n",
       "Index: []\n",
       "\n",
       "[0 rows x 259 columns]"
      ]
     },
     "execution_count": 5,
     "metadata": {},
     "output_type": "execute_result"
    }
   ],
   "source": [
    "# contains no null values\n",
    "incomplete_rows = data[data.isnull().any(axis=1)].head()\n",
    "incomplete_rows"
   ]
  },
  {
   "cell_type": "code",
   "execution_count": 6,
   "metadata": {
    "colab": {
     "base_uri": "https://localhost:8080/"
    },
    "id": "HVflU2kAlLCf",
    "outputId": "1ca058f3-8e11-4047-a3bb-ce29b9ad1f82"
   },
   "outputs": [
    {
     "data": {
      "text/plain": [
       "3    2942\n",
       "2    2478\n",
       "1    1541\n",
       "8    1228\n",
       "9    1013\n",
       "6     751\n",
       "4     475\n",
       "7     398\n",
       "5      42\n",
       "Name: Class, dtype: int64"
      ]
     },
     "execution_count": 6,
     "metadata": {},
     "output_type": "execute_result"
    }
   ],
   "source": [
    "data[\"Class\"].value_counts()"
   ]
  },
  {
   "cell_type": "code",
   "execution_count": 7,
   "metadata": {
    "colab": {
     "base_uri": "https://localhost:8080/"
    },
    "id": "0G-fHRmplbBm",
    "outputId": "bb789c7b-f4da-4c38-c648-03188c093b91"
   },
   "outputs": [
    {
     "name": "stdout",
     "output_type": "stream",
     "text": [
      "Train input size  (8694, 258)\n",
      "Test input size  (2174, 258)\n",
      "Train output size  (8694,)\n",
      "Test output size  (2174,)\n"
     ]
    }
   ],
   "source": [
    "# Use stratified sampling to create an 80-20 train-test split\n",
    "feature = data.drop(['Class'], axis = 1)\n",
    "target = data['Class']\n",
    "\n",
    "# spliting data 20% to test and rest to train\n",
    "train_data_i,test_data_i, train_data_o, test_data_o = train_test_split(feature, target, test_size = 0.2,stratify = target, random_state = 42)\n",
    "print('Train input size ', train_data_i.shape)\n",
    "print('Test input size ', test_data_i.shape)\n",
    "print('Train output size ', train_data_o.shape)\n",
    "print('Test output size ', test_data_o.shape)"
   ]
  },
  {
   "cell_type": "code",
   "execution_count": 8,
   "metadata": {
    "colab": {
     "base_uri": "https://localhost:8080/"
    },
    "id": "wwEk7BN7lm0Q",
    "outputId": "fc2b1dd3-bf4b-4ae5-bab9-546019a68567"
   },
   "outputs": [
    {
     "data": {
      "text/plain": [
       "3733    8\n",
       "2280    8\n",
       "1845    2\n",
       "7694    6\n",
       "8128    3\n",
       "Name: Class, dtype: int64"
      ]
     },
     "execution_count": 8,
     "metadata": {},
     "output_type": "execute_result"
    }
   ],
   "source": [
    "train_data_o.head()"
   ]
  },
  {
   "cell_type": "code",
   "execution_count": 9,
   "metadata": {
    "id": "mDEZEInTmoc6"
   },
   "outputs": [],
   "source": [
    "#standdardize the data\n",
    "scale = StandardScaler().fit(train_data_i)\n",
    "train_data_i = scale.transform(train_data_i)\n",
    "test_data_i = scale.transform(test_data_i)"
   ]
  },
  {
   "cell_type": "code",
   "execution_count": 10,
   "metadata": {
    "colab": {
     "base_uri": "https://localhost:8080/"
    },
    "id": "hgdLQeG-nQrz",
    "outputId": "22a55119-9997-44eb-c7fb-5750e7bc928c"
   },
   "outputs": [
    {
     "data": {
      "text/plain": [
       "array([[-0.33652224, -0.38883088, -0.18929193, ..., -0.5872835 ,\n",
       "        -0.6793142 , -1.1285937 ],\n",
       "       [-0.03491896, -0.33576001, -0.17334224, ..., -0.38776342,\n",
       "        -0.67935855, -1.06127222],\n",
       "       [-0.10235753,  0.0931812 , -0.0247202 , ...,  1.8221795 ,\n",
       "        -0.67505114,  1.28705957],\n",
       "       ...,\n",
       "       [-0.27244919, -0.31193873, -0.17487059, ..., -0.3363354 ,\n",
       "        -0.64157868, -1.03355161],\n",
       "       [-0.04798623,  0.38794324,  0.20053477, ...,  2.01546458,\n",
       "        -0.67562768,  1.10489555],\n",
       "       [-0.41902173, -0.14355598, -0.13284102, ..., -0.38724742,\n",
       "         1.3818258 ,  1.01777363]])"
      ]
     },
     "execution_count": 10,
     "metadata": {},
     "output_type": "execute_result"
    }
   ],
   "source": [
    "train_data_i"
   ]
  },
  {
   "cell_type": "code",
   "execution_count": 16,
   "metadata": {
    "colab": {
     "base_uri": "https://localhost:8080/"
    },
    "id": "flfKmFscqUHU",
    "outputId": "88941212-5ff2-422b-f3d3-85eb00ba4ba1"
   },
   "outputs": [
    {
     "name": "stdout",
     "output_type": "stream",
     "text": [
      "Best C :  1000.0\n",
      "Training Score :  0.8549574419139637\n"
     ]
    }
   ],
   "source": [
    "import matplotlib as mp1\n",
    "import matplotlib.pyplot as plt\n",
    "import warnings\n",
    "warnings.filterwarnings(\"ignore\")\n",
    "import numpy as np\n",
    "\n",
    "# Find the best Logistic Regression model that can solve this problem\n",
    "\n",
    "#L1 penalty\n",
    "\n",
    "C = [0.001,0.01,0.1,1,10,100,1000]\n",
    "l1_reg = LogisticRegressionCV(Cs=C, random_state=42,max_iter=30, solver='saga', penalty='l1',class_weight='balanced')\n",
    "l1_reg.fit(train_data_i,train_data_o)\n",
    "l1_best_C = l1_reg.C_\n",
    "l1_best_train_score = np.mean(cross_val_score(l1_reg,train_data_i,train_data_o,cv=3,scoring=\"accuracy\"))\n",
    "print('Best C : ',l1_best_C)\n",
    "print('Training Score : ',l1_best_train_score)"
   ]
  },
  {
   "cell_type": "code",
   "execution_count": 19,
   "metadata": {
    "colab": {
     "base_uri": "https://localhost:8080/"
    },
    "id": "FH9HG8zZIG9I",
    "outputId": "39815b34-392e-4543-cc00-ba2810e2d6c4"
   },
   "outputs": [
    {
     "name": "stdout",
     "output_type": "stream",
     "text": [
      "Misclassified samples: 268\n",
      "0.8767249310027599\n"
     ]
    }
   ],
   "source": [
    "l1_pred = l1_reg.predict(test_data_i)\n",
    "count_misclassified = (test_data_o != l1_pred).sum()\n",
    "print('Misclassified samples: {}'.format(count_misclassified))\n",
    "print(accuracy_score(test_data_o,l1_pred))\n"
   ]
  },
  {
   "cell_type": "code",
   "execution_count": 21,
   "metadata": {
    "colab": {
     "base_uri": "https://localhost:8080/"
    },
    "id": "Y4UU0OGnIeSC",
    "outputId": "d289169a-6568-497b-8aa8-7db1df6a10bb"
   },
   "outputs": [
    {
     "data": {
      "text/plain": [
       "array([[224,   2,   3,  11,   2,   3,   1,  58,   4],\n",
       "       [ 28, 417,   8,   5,   1,  18,   1,   8,  10],\n",
       "       [  0,   0, 588,   0,   0,   0,   0,   0,   0],\n",
       "       [  0,   0,   0,  92,   0,   2,   0,   1,   0],\n",
       "       [  0,   0,   0,   3,   5,   0,   0,   0,   0],\n",
       "       [  7,   0,   0,  23,   4, 102,   1,   8,   5],\n",
       "       [  0,   0,   0,   0,   1,   3,  76,   0,   0],\n",
       "       [  7,   0,   0,   9,   2,   1,   0, 225,   2],\n",
       "       [  3,   1,   2,   2,   0,   4,   3,  11, 177]])"
      ]
     },
     "execution_count": 21,
     "metadata": {
      "tags": []
     },
     "output_type": "execute_result"
    }
   ],
   "source": [
    "cm = confusion_matrix(test_data_o,l1_pred)\n",
    "cm"
   ]
  },
  {
   "cell_type": "code",
   "execution_count": 22,
   "metadata": {
    "colab": {
     "base_uri": "https://localhost:8080/"
    },
    "id": "4FS7NauYVyOo",
    "outputId": "a9a119d7-3568-4196-9a21-eebba0e562bb"
   },
   "outputs": [
    {
     "name": "stdout",
     "output_type": "stream",
     "text": [
      "Best C :  1000.0\n",
      "Training Score :  0.8572578789970094\n"
     ]
    }
   ],
   "source": [
    "from sklearn.linear_model import LogisticRegression\n",
    "l2_reg = LogisticRegressionCV(Cs=C, random_state=42,max_iter=30, solver='saga', penalty='l2',class_weight='balanced')\n",
    "l2_reg.fit(train_data_i,train_data_o)\n",
    "l2_best_C = l2_reg.C_\n",
    "l2_best_train_score = np.mean(cross_val_score(l2_reg,train_data_i,train_data_o,cv=3,scoring=\"accuracy\"))\n",
    "print('Best C : ',l2_best_C)\n",
    "print('Training Score : ',l2_best_train_score)"
   ]
  },
  {
   "cell_type": "code",
   "execution_count": 24,
   "metadata": {
    "colab": {
     "base_uri": "https://localhost:8080/"
    },
    "id": "aHuAP5mFWEwR",
    "outputId": "59fdfc59-4652-41e5-f9f5-88ebd1edb46f"
   },
   "outputs": [
    {
     "name": "stdout",
     "output_type": "stream",
     "text": [
      "Misclassified samples: 255\n",
      "0.8827046918123275\n"
     ]
    }
   ],
   "source": [
    "l2_pred = l2_reg.predict(test_data_i)\n",
    "count_misclassified = (test_data_o != l2_pred).sum()\n",
    "print('Misclassified samples: {}'.format(count_misclassified))\n",
    "print(accuracy_score(test_data_o,l2_pred))\n"
   ]
  },
  {
   "cell_type": "code",
   "execution_count": 26,
   "metadata": {
    "colab": {
     "base_uri": "https://localhost:8080/"
    },
    "id": "EbGBmdZ6awfH",
    "outputId": "d6a5c218-c0b9-4333-d780-04370baf7f77"
   },
   "outputs": [
    {
     "data": {
      "text/plain": [
       "array([[240,   2,   3,  12,   2,   3,   1,  41,   4],\n",
       "       [ 28, 413,   8,   5,   2,  19,   1,   9,  11],\n",
       "       [  0,   0, 588,   0,   0,   0,   0,   0,   0],\n",
       "       [  0,   0,   0,  92,   0,   3,   0,   0,   0],\n",
       "       [  0,   0,   0,   3,   5,   0,   0,   0,   0],\n",
       "       [  7,   0,   0,  22,   4, 104,   1,   8,   4],\n",
       "       [  0,   0,   0,   0,   2,   3,  75,   0,   0],\n",
       "       [  7,   0,   0,   9,   2,   1,   0, 225,   2],\n",
       "       [  2,   1,   2,   2,   0,   4,   4,  11, 177]])"
      ]
     },
     "execution_count": 26,
     "metadata": {
      "tags": []
     },
     "output_type": "execute_result"
    }
   ],
   "source": [
    "cm = confusion_matrix(test_data_o,l2_pred)\n",
    "cm"
   ]
  },
  {
   "cell_type": "code",
   "execution_count": 19,
   "metadata": {
    "id": "84fQHnZCdxm1"
   },
   "outputs": [
    {
     "data": {
      "text/plain": [
       "MLPClassifier(alpha=1e-05, hidden_layer_sizes=50, random_state=1, tol=1e-07)"
      ]
     },
     "execution_count": 19,
     "metadata": {},
     "output_type": "execute_result"
    }
   ],
   "source": [
    "from sklearn.model_selection import GridSearchCV\n",
    "from sklearn.neural_network import MLPClassifier\n",
    "\n",
    "multi_l_p =MLPClassifier(activation='relu',solver='adam',hidden_layer_sizes=(50),alpha=1e-5,tol=0.0000001,max_iter=200,random_state=1)\n",
    "multi_l_p.fit(train_data_i, train_data_o)\n",
    "# After trying several values for activation , solver ,max_iter, hidden_layer_sizes, the above values give the max accuracy"
   ]
  },
  {
   "cell_type": "code",
   "execution_count": 20,
   "metadata": {
    "id": "CbBSZqETAgiD"
   },
   "outputs": [],
   "source": [
    "y_pred = multi_l_p.predict(test_data_i)"
   ]
  },
  {
   "cell_type": "code",
   "execution_count": 21,
   "metadata": {
    "colab": {
     "base_uri": "https://localhost:8080/"
    },
    "id": "FyUIadKiDFMM",
    "outputId": "dd28c1e5-130e-42e8-d8d4-9d52f91906c9"
   },
   "outputs": [
    {
     "data": {
      "text/plain": [
       "0.9512419503219871"
      ]
     },
     "execution_count": 21,
     "metadata": {},
     "output_type": "execute_result"
    }
   ],
   "source": [
    "accuracy_score(test_data_o,y_pred)"
   ]
  },
  {
   "cell_type": "code",
   "execution_count": 22,
   "metadata": {
    "colab": {
     "base_uri": "https://localhost:8080/"
    },
    "id": "v0-4zEJeDK8_",
    "outputId": "cd4056dc-3d1e-49d7-8e3d-e7c42622e575"
   },
   "outputs": [
    {
     "name": "stdout",
     "output_type": "stream",
     "text": [
      "Misclassified samples: 106\n"
     ]
    }
   ],
   "source": [
    "count_misclassified = (test_data_o != y_pred).sum()\n",
    "print('Misclassified samples: {}'.format(count_misclassified))\n",
    "cm = confusion_matrix(test_data_o,y_pred)"
   ]
  },
  {
   "cell_type": "code",
   "execution_count": 23,
   "metadata": {
    "colab": {
     "base_uri": "https://localhost:8080/"
    },
    "id": "xoV548ulDRlY",
    "outputId": "e1da1bcf-b78a-4d5e-b1b0-ca8d74de9182"
   },
   "outputs": [
    {
     "data": {
      "text/plain": [
       "array([[298,   2,   0,   1,   1,   1,   0,   3,   2],\n",
       "       [ 16, 446,   1,   2,   0,   4,   4,  12,  11],\n",
       "       [  0,   0, 587,   0,   0,   1,   0,   0,   0],\n",
       "       [  2,   0,   0,  92,   0,   0,   0,   0,   1],\n",
       "       [  0,   0,   0,   1,   6,   0,   0,   1,   0],\n",
       "       [  1,   2,   0,   4,   1, 140,   0,   2,   0],\n",
       "       [  0,   2,   0,   0,   0,   1,  77,   0,   0],\n",
       "       [  7,   1,   0,   1,   0,   3,   0, 233,   1],\n",
       "       [  3,   4,   1,   2,   0,   1,   0,   3, 189]], dtype=int64)"
      ]
     },
     "execution_count": 23,
     "metadata": {},
     "output_type": "execute_result"
    }
   ],
   "source": [
    "cm"
   ]
  },
  {
   "cell_type": "code",
   "execution_count": 15,
   "metadata": {
    "id": "He4xBePGrxMI"
   },
   "outputs": [
    {
     "data": {
      "text/plain": [
       "RandomForestClassifier(max_depth=100, n_estimators=500, random_state=0)"
      ]
     },
     "execution_count": 15,
     "metadata": {},
     "output_type": "execute_result"
    }
   ],
   "source": [
    "from sklearn.ensemble import RandomForestClassifier\n",
    "clf = RandomForestClassifier(n_estimators=500,max_depth=100, random_state=0)\n",
    "clf.fit(train_data_i, train_data_o)\n",
    "# after trying various values for n_estimators and max_depth , the above values are coming out to be most efficient"
   ]
  },
  {
   "cell_type": "code",
   "execution_count": 16,
   "metadata": {
    "id": "zKKmlndtCEXi"
   },
   "outputs": [
    {
     "data": {
      "text/plain": [
       "0.985280588776449"
      ]
     },
     "execution_count": 16,
     "metadata": {},
     "output_type": "execute_result"
    }
   ],
   "source": [
    "pred = clf.predict(test_data_i)\n",
    "accuracy_score(test_data_o,pred)"
   ]
  },
  {
   "cell_type": "code",
   "execution_count": 17,
   "metadata": {
    "id": "To41beW7CUWV"
   },
   "outputs": [
    {
     "name": "stdout",
     "output_type": "stream",
     "text": [
      "Misclassified samples: 32\n"
     ]
    },
    {
     "data": {
      "text/plain": [
       "array([[302,   0,   0,   1,   0,   2,   0,   1,   2],\n",
       "       [  0, 494,   0,   0,   0,   0,   0,   2,   0],\n",
       "       [  0,   0, 588,   0,   0,   0,   0,   0,   0],\n",
       "       [  0,   0,   0,  93,   0,   2,   0,   0,   0],\n",
       "       [  0,   0,   0,   0,   7,   0,   0,   1,   0],\n",
       "       [  0,   0,   0,   0,   0, 146,   0,   4,   0],\n",
       "       [  0,   0,   0,   0,   0,   0,  80,   0,   0],\n",
       "       [  6,   2,   0,   0,   0,   4,   0, 234,   0],\n",
       "       [  0,   0,   2,   1,   0,   1,   0,   1, 198]], dtype=int64)"
      ]
     },
     "execution_count": 17,
     "metadata": {},
     "output_type": "execute_result"
    }
   ],
   "source": [
    "count_misclassified = (test_data_o != pred).sum()\n",
    "print('Misclassified samples: {}'.format(count_misclassified))\n",
    "cm = confusion_matrix(test_data_o,pred)\n",
    "cm"
   ]
  },
  {
   "cell_type": "markdown",
   "metadata": {},
   "source": [
    "Conclusion - After trying different models and tuning different hyperparameters in each of them \n",
    "Random Forest Classifier is giving the maxing accuracy as it can be seen through accuracy score\n",
    "and it can be further confirmed by observing the confusion matrix as diagonal items are max and classifier \n",
    "is able to classify each class.\n"
   ]
  },
  {
   "cell_type": "code",
   "execution_count": 2,
   "metadata": {},
   "outputs": [
    {
     "ename": "ModuleNotFoundError",
     "evalue": "No module named 'mlxtend'",
     "output_type": "error",
     "traceback": [
      "\u001b[1;31m---------------------------------------------------------------------------\u001b[0m",
      "\u001b[1;31mModuleNotFoundError\u001b[0m                       Traceback (most recent call last)",
      "\u001b[1;32m<ipython-input-2-87d910befb79>\u001b[0m in \u001b[0;36m<module>\u001b[1;34m()\u001b[0m\n\u001b[1;32m----> 1\u001b[1;33m \u001b[1;32mimport\u001b[0m \u001b[0mmlxtend\u001b[0m\u001b[1;33m\u001b[0m\u001b[0m\n\u001b[0m",
      "\u001b[1;31mModuleNotFoundError\u001b[0m: No module named 'mlxtend'"
     ]
    }
   ],
   "source": [
    "import mlxtend"
   ]
  },
  {
   "cell_type": "code",
   "execution_count": null,
   "metadata": {},
   "outputs": [],
   "source": []
  }
 ],
 "metadata": {
  "accelerator": "GPU",
  "colab": {
   "collapsed_sections": [],
   "name": "ML Lab Assign 4.ipynb",
   "provenance": []
  },
  "kernelspec": {
   "display_name": "Python 3",
   "language": "python",
   "name": "python3"
  },
  "language_info": {
   "codemirror_mode": {
    "name": "ipython",
    "version": 3
   },
   "file_extension": ".py",
   "mimetype": "text/x-python",
   "name": "python",
   "nbconvert_exporter": "python",
   "pygments_lexer": "ipython3",
   "version": "3.6.5"
  }
 },
 "nbformat": 4,
 "nbformat_minor": 2
}
